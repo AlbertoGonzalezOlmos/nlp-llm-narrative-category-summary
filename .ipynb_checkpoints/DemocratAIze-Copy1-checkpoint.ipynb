{
 "cells": [
  {
   "cell_type": "code",
   "execution_count": 2,
   "id": "35354e34",
   "metadata": {},
   "outputs": [
    {
     "name": "stdout",
     "output_type": "stream",
     "text": [
      "\"I want a very hot pizza\"\n",
      "\"The food today was not good, I want something special.\"\n"
     ]
    }
   ],
   "source": [
    "import os\n",
    "import glob\n",
    "import openai\n",
    "import json\n",
    "\n",
    "def load_api_key(config_file):\n",
    "    with open(config_file) as f:\n",
    "        config = json.load(f)\n",
    "    return config['api_key']\n",
    "\n",
    "def configure_openai_api(api_key):\n",
    "    openai.api_key = api_key\n",
    "\n",
    "def get_text_files(directory):\n",
    "    return glob.glob(os.path.join(directory, '*.txt'))\n",
    "\n",
    "def read_file(file_path):\n",
    "    with open(file_path, 'r') as f:\n",
    "        content = f.read()\n",
    "    return content\n",
    "\n",
    "def generate_summary(text, query, max_length=150):\n",
    "    response = openai.Completion.create(\n",
    "        engine=\"text-davinci-002\",\n",
    "        prompt=f\"{query}: {text}\",\n",
    "        max_tokens=max_length,\n",
    "        n=1,\n",
    "        stop=None,\n",
    "        temperature=0.5,\n",
    "    )\n",
    "    summary = response.choices[0].text.strip()\n",
    "    return summary\n",
    "\n",
    "def summarize_text_files(directory, query_input, query_integration, config_file=\"config.json\", output_file=None):\n",
    "    api_key = load_api_key(config_file)\n",
    "    configure_openai_api(api_key)\n",
    "\n",
    "    summaries = {}\n",
    "    text_files = get_text_files(directory)\n",
    "    for file_path in text_files:\n",
    "        file_name = os.path.basename(file_path)\n",
    "        content = read_file(file_path)\n",
    "        print(content)\n",
    "        summary = generate_summary(content, query_input)\n",
    "        #summaries[file_name] = summary\n",
    "\n",
    "    summary = generate_summary(\"\", query_integration)\n",
    "    summaries = summary\n",
    "    if output_file:\n",
    "        with open(output_file, 'w') as f:\n",
    "            json.dump(summaries, f, indent=2)\n",
    "    else:\n",
    "        print(json.dumps(summaries, indent=2))\n",
    "\n",
    "# Usage example\n",
    "directory = \"./textFiles/\"\n",
    "query_integration = \"Now integrate the entered points and make a one sentence sumary\"\n",
    "query_input = \"Remember the following points:\"\n",
    "config_file = \"config.json\"\n",
    "output_file = \"./outputFiles/summaries_2.txt\"\n",
    "summarize_text_files(directory, query_input, query_integration, config_file, output_file)\n",
    "\n",
    "\n",
    "\n",
    "# Used queries\n",
    "#Integrate these points, and then write a one-sentence summary.\n",
    "#Summarize the information of all files together\n",
    "#Write a short summary of the input text"
   ]
  },
  {
   "cell_type": "code",
   "execution_count": null,
   "id": "6498ec0c",
   "metadata": {},
   "outputs": [],
   "source": []
  },
  {
   "cell_type": "code",
   "execution_count": null,
   "id": "179a5b71",
   "metadata": {},
   "outputs": [],
   "source": []
  }
 ],
 "metadata": {
  "kernelspec": {
   "display_name": "Python 3 (ipykernel)",
   "language": "python",
   "name": "python3"
  },
  "language_info": {
   "codemirror_mode": {
    "name": "ipython",
    "version": 3
   },
   "file_extension": ".py",
   "mimetype": "text/x-python",
   "name": "python",
   "nbconvert_exporter": "python",
   "pygments_lexer": "ipython3",
   "version": "3.10.9"
  }
 },
 "nbformat": 4,
 "nbformat_minor": 5
}
