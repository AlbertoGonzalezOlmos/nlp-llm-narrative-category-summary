{
 "cells": [
  {
   "cell_type": "code",
   "execution_count": 1,
   "id": "ec39c5f7",
   "metadata": {},
   "outputs": [],
   "source": [
    "import math\n",
    "import numpy as np\n",
    "import pandas as pd\n",
    "\n",
    "import datashader as ds\n",
    "import datashader.transfer_functions as tf\n",
    "from datashader.layout import random_layout, circular_layout, forceatlas2_layout\n",
    "from datashader.bundling import connect_edges, hammer_bundle\n",
    "\n",
    "from itertools import chain\n",
    "\n",
    "import os\n",
    "import glob\n",
    "import ast\n",
    "import copy\n",
    "def read_file(file_path):\n",
    "    with open(file_path, 'r') as f:\n",
    "        content = f.read()\n",
    "    return content"
   ]
  },
  {
   "cell_type": "code",
   "execution_count": 2,
   "id": "596bdf5d",
   "metadata": {},
   "outputs": [],
   "source": [
    "output_Dir = \"./outputOnlyCategories/\"\n",
    "nameOutput_File = \"identifyOnlyCategories_\"\n",
    "\n",
    "list_of_files = glob.glob(output_Dir + nameOutput_File + '*.txt') # * means all if need specific format then *.csv\n",
    "latest_file = max(list_of_files, key=os.path.getctime)\n",
    "content = read_file(latest_file)\n",
    "dictCategories = ast.literal_eval(content)"
   ]
  },
  {
   "cell_type": "code",
   "execution_count": 3,
   "id": "6b55c60c",
   "metadata": {},
   "outputs": [
    {
     "data": {
      "text/plain": [
       "{'Education System': 'Covers the overall quality, funding, and curriculum of schools.',\n",
       " 'Teaching Methods': 'Refers to the approaches and techniques used in classrooms, including engagement and flexibility.',\n",
       " 'Parental Feedback': 'Represents the opinions and satisfaction of parents with the education system.',\n",
       " 'School Staff': 'Addresses the stability, motivation, and qualifications of teachers and other school personnel.',\n",
       " 'Neighborhood Factors': 'Discusses the impact of local population and neighborhood on school quality.'}"
      ]
     },
     "execution_count": 3,
     "metadata": {},
     "output_type": "execute_result"
    }
   ],
   "source": [
    "dictCategories"
   ]
  },
  {
   "cell_type": "code",
   "execution_count": 4,
   "id": "bd08683d",
   "metadata": {},
   "outputs": [],
   "source": [
    "output_Dir = \"./outputPairing/\"\n",
    "nameOutput_File = \"pairingExtrapolCategory_\"\n",
    "\n",
    "list_of_files = glob.glob(output_Dir + nameOutput_File + '*.txt') # * means all if need specific format then *.csv\n",
    "latest_file = max(list_of_files, key=os.path.getctime)\n",
    "content = read_file(latest_file)\n",
    "dictPairing = ast.literal_eval(content)"
   ]
  },
  {
   "cell_type": "code",
   "execution_count": 5,
   "id": "910e148d",
   "metadata": {},
   "outputs": [
    {
     "data": {
      "text/plain": [
       "{'Education System': [1, 3, 4, 5, 6, 10],\n",
       " 'Teaching Methods': [1, 6, 10],\n",
       " 'Parental Feedback': [2, 5],\n",
       " 'School Staff': [7, 8, 9, 11],\n",
       " 'Neighborhood Factors': [4]}"
      ]
     },
     "execution_count": 5,
     "metadata": {},
     "output_type": "execute_result"
    }
   ],
   "source": [
    "dictPairing"
   ]
  },
  {
   "cell_type": "code",
   "execution_count": 20,
   "id": "b6c5ac6d",
   "metadata": {},
   "outputs": [
    {
     "data": {
      "text/plain": [
       "dict_keys(['Education System', 'Teaching Methods', 'Parental Feedback', 'School Staff', 'Neighborhood Factors'])"
      ]
     },
     "execution_count": 20,
     "metadata": {},
     "output_type": "execute_result"
    }
   ],
   "source": [
    "dictPairing.keys()"
   ]
  },
  {
   "cell_type": "code",
   "execution_count": 21,
   "id": "48218245",
   "metadata": {},
   "outputs": [
    {
     "data": {
      "text/plain": [
       "('Education System', [1, 3, 4, 5, 6, 10])"
      ]
     },
     "execution_count": 21,
     "metadata": {},
     "output_type": "execute_result"
    }
   ],
   "source": [
    "list(dictPairing.items())[0]"
   ]
  },
  {
   "cell_type": "code",
   "execution_count": 26,
   "id": "413b8c36",
   "metadata": {},
   "outputs": [
    {
     "data": {
      "text/html": [
       "<div>\n",
       "<style scoped>\n",
       "    .dataframe tbody tr th:only-of-type {\n",
       "        vertical-align: middle;\n",
       "    }\n",
       "\n",
       "    .dataframe tbody tr th {\n",
       "        vertical-align: top;\n",
       "    }\n",
       "\n",
       "    .dataframe thead th {\n",
       "        text-align: right;\n",
       "    }\n",
       "</style>\n",
       "<table border=\"1\" class=\"dataframe\">\n",
       "  <thead>\n",
       "    <tr style=\"text-align: right;\">\n",
       "      <th></th>\n",
       "      <th>Education System</th>\n",
       "      <th>Teaching Methods</th>\n",
       "      <th>Parental Feedback</th>\n",
       "      <th>School Staff</th>\n",
       "      <th>Neighborhood Factors</th>\n",
       "    </tr>\n",
       "  </thead>\n",
       "  <tbody>\n",
       "    <tr>\n",
       "      <th>0</th>\n",
       "      <td>[1, 3, 4, 5, 6, 10]</td>\n",
       "      <td>[1, 6, 10]</td>\n",
       "      <td>[2, 5]</td>\n",
       "      <td>[7, 8, 9, 11]</td>\n",
       "      <td>[4]</td>\n",
       "    </tr>\n",
       "  </tbody>\n",
       "</table>\n",
       "</div>"
      ],
      "text/plain": [
       "      Education System Teaching Methods Parental Feedback   School Staff  \\\n",
       "0  [1, 3, 4, 5, 6, 10]       [1, 6, 10]            [2, 5]  [7, 8, 9, 11]   \n",
       "\n",
       "  Neighborhood Factors  \n",
       "0                  [4]  "
      ]
     },
     "execution_count": 26,
     "metadata": {},
     "output_type": "execute_result"
    }
   ],
   "source": [
    "pd.DataFrame([dictPairing])"
   ]
  },
  {
   "cell_type": "code",
   "execution_count": 29,
   "id": "f331317e",
   "metadata": {},
   "outputs": [
    {
     "ename": "TypeError",
     "evalue": "unhashable type: 'dict'",
     "output_type": "error",
     "traceback": [
      "\u001b[1;31m---------------------------------------------------------------------------\u001b[0m",
      "\u001b[1;31mTypeError\u001b[0m                                 Traceback (most recent call last)",
      "Cell \u001b[1;32mIn[29], line 1\u001b[0m\n\u001b[1;32m----> 1\u001b[0m pd\u001b[38;5;241m.\u001b[39mDataFrame\u001b[38;5;241m.\u001b[39mfrom_dict({dictPairing})\n",
      "\u001b[1;31mTypeError\u001b[0m: unhashable type: 'dict'"
     ]
    }
   ],
   "source": [
    "pd.DataFrame.from_dict({dictPairing})"
   ]
  },
  {
   "cell_type": "code",
   "execution_count": 13,
   "id": "f672e206",
   "metadata": {},
   "outputs": [],
   "source": [
    "keyNames = list(response_dict.keys())\n",
    "## [1][\"sentence_numbers\"]\n",
    "# response_dict[keyNames[1]]\n",
    "#setList = []\n",
    "#setNames = []\n",
    "setDict = {}\n",
    "for iterKeys in range(len(keyNames)):\n",
    "    setElements = response_dict[keyNames[iterKeys]][\"sentence_numbers\"]\n",
    "    newSet = set(str(setElements[0]))\n",
    "    for iterSet in range(1,len(setElements)):\n",
    "        newSet.add(str(setElements[iterSet]))\n",
    "    setDict[keyNames[iterKeys]] = copy.deepcopy(newSet)\n",
    "#    setList.append(copy.deepcopy(newSet))\n",
    "#    setNames.append(keyNames[iterKeys])\n",
    "    newSet.clear()"
   ]
  },
  {
   "cell_type": "code",
   "execution_count": null,
   "id": "f493be10",
   "metadata": {},
   "outputs": [],
   "source": []
  },
  {
   "cell_type": "code",
   "execution_count": 4,
   "id": "3aacc035",
   "metadata": {},
   "outputs": [
    {
     "data": {
      "image/png": "[encoded data removed]",
      "text/plain": [
       "<Figure size 640x480 with 1 Axes>"
      ]
     },
     "metadata": {},
     "output_type": "display_data"
    }
   ],
   "source": [
    "# library\n",
    "import matplotlib.pyplot as plt\n",
    "\n",
    "# create data: an array of values\n",
    "size_of_groups=[12,11,3,30]\n",
    "\n",
    "# Create a pieplot\n",
    "plt.pie(size_of_groups)\n",
    "plt.show()"
   ]
  },
  {
   "cell_type": "code",
   "execution_count": null,
   "id": "936d1943",
   "metadata": {},
   "outputs": [],
   "source": []
  },
  {
   "cell_type": "code",
   "execution_count": null,
   "id": "ad1be09e",
   "metadata": {},
   "outputs": [],
   "source": []
  }
 ],
 "metadata": {
  "kernelspec": {
   "display_name": "Python 3 (ipykernel)",
   "language": "python",
   "name": "python3"
  },
  "language_info": {
   "codemirror_mode": {
    "name": "ipython",
    "version": 3
   },
   "file_extension": ".py",
   "mimetype": "text/x-python",
   "name": "python",
   "nbconvert_exporter": "python",
   "pygments_lexer": "ipython3",
   "version": "3.10.9"
  }
 },
 "nbformat": 4,
 "nbformat_minor": 5
}
